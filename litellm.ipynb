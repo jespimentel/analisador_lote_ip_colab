{
  "nbformat": 4,
  "nbformat_minor": 0,
  "metadata": {
    "colab": {
      "provenance": [],
      "mount_file_id": "1IuWM7rdO0qHKVpGSdC0CaSmcNcBNQvrN",
      "authorship_tag": "ABX9TyOaYeaOCepcHdITs48Bbzwx",
      "include_colab_link": true
    },
    "kernelspec": {
      "name": "python3",
      "display_name": "Python 3"
    },
    "language_info": {
      "name": "python"
    }
  },
  "cells": [
    {
      "cell_type": "markdown",
      "metadata": {
        "id": "view-in-github",
        "colab_type": "text"
      },
      "source": [
        "<a href=\"https://colab.research.google.com/github/jespimentel/analisador_lote_ip_colab/blob/main/litellm.ipynb\" target=\"_parent\"><img src=\"https://colab.research.google.com/assets/colab-badge.svg\" alt=\"Open In Colab\"/></a>"
      ]
    },
    {
      "cell_type": "markdown",
      "source": [
        "# ANALISADOR DE IPS EM LOTE\n",
        "### José Eduardo de Souza Pimentel\n",
        "\n",
        "O programa emprega o poder do Python e das LLMs, mediadas pela biblioteca `litellm`, para analisar uma coleção de inquéritos policiais em formato PDF encontrados em determinada pasta (diretório).\n",
        "\n",
        "### Estratégias\n",
        "1. Usamos o `PyPDF` para extrair textos dos PDFs. Preservamos a numeração das páginas para referenciar as respostas.\n",
        "2. O texto extraído compõe um extenso prompt, com as perguntas à LLM dirigidas à analise de cada caso.\n",
        "3. A biblioteca `litellm` facilita o desenvolvimento e abstrai toda a complexidade das chamadas a APIs, fazendo fácil substituir um provedor de LLM por outro."
      ],
      "metadata": {
        "id": "aQUdTGgu0DH5"
      }
    },
    {
      "cell_type": "code",
      "source": [
        "# Instalações\n",
        "!pip install PyPDF2 litellm"
      ],
      "metadata": {
        "id": "Tc0mcQq2HZCc",
        "colab": {
          "base_uri": "https://localhost:8080/"
        },
        "outputId": "e431022c-3b8d-45b7-bc6c-7254a2068742"
      },
      "execution_count": 1,
      "outputs": [
        {
          "output_type": "stream",
          "name": "stdout",
          "text": [
            "Requirement already satisfied: PyPDF2 in /usr/local/lib/python3.11/dist-packages (3.0.1)\n",
            "Requirement already satisfied: litellm in /usr/local/lib/python3.11/dist-packages (1.59.8)\n",
            "Requirement already satisfied: aiohttp in /usr/local/lib/python3.11/dist-packages (from litellm) (3.11.11)\n",
            "Requirement already satisfied: click in /usr/local/lib/python3.11/dist-packages (from litellm) (8.1.8)\n",
            "Requirement already satisfied: httpx<0.28.0,>=0.23.0 in /usr/local/lib/python3.11/dist-packages (from litellm) (0.27.2)\n",
            "Requirement already satisfied: importlib-metadata>=6.8.0 in /usr/local/lib/python3.11/dist-packages (from litellm) (8.6.1)\n",
            "Requirement already satisfied: jinja2<4.0.0,>=3.1.2 in /usr/local/lib/python3.11/dist-packages (from litellm) (3.1.5)\n",
            "Requirement already satisfied: jsonschema<5.0.0,>=4.22.0 in /usr/local/lib/python3.11/dist-packages (from litellm) (4.23.0)\n",
            "Requirement already satisfied: openai>=1.55.3 in /usr/local/lib/python3.11/dist-packages (from litellm) (1.59.9)\n",
            "Requirement already satisfied: pydantic<3.0.0,>=2.0.0 in /usr/local/lib/python3.11/dist-packages (from litellm) (2.10.5)\n",
            "Requirement already satisfied: python-dotenv>=0.2.0 in /usr/local/lib/python3.11/dist-packages (from litellm) (1.0.1)\n",
            "Requirement already satisfied: tiktoken>=0.7.0 in /usr/local/lib/python3.11/dist-packages (from litellm) (0.8.0)\n",
            "Requirement already satisfied: tokenizers in /usr/local/lib/python3.11/dist-packages (from litellm) (0.21.0)\n",
            "Requirement already satisfied: anyio in /usr/local/lib/python3.11/dist-packages (from httpx<0.28.0,>=0.23.0->litellm) (3.7.1)\n",
            "Requirement already satisfied: certifi in /usr/local/lib/python3.11/dist-packages (from httpx<0.28.0,>=0.23.0->litellm) (2024.12.14)\n",
            "Requirement already satisfied: httpcore==1.* in /usr/local/lib/python3.11/dist-packages (from httpx<0.28.0,>=0.23.0->litellm) (1.0.7)\n",
            "Requirement already satisfied: idna in /usr/local/lib/python3.11/dist-packages (from httpx<0.28.0,>=0.23.0->litellm) (3.10)\n",
            "Requirement already satisfied: sniffio in /usr/local/lib/python3.11/dist-packages (from httpx<0.28.0,>=0.23.0->litellm) (1.3.1)\n",
            "Requirement already satisfied: h11<0.15,>=0.13 in /usr/local/lib/python3.11/dist-packages (from httpcore==1.*->httpx<0.28.0,>=0.23.0->litellm) (0.14.0)\n",
            "Requirement already satisfied: zipp>=3.20 in /usr/local/lib/python3.11/dist-packages (from importlib-metadata>=6.8.0->litellm) (3.21.0)\n",
            "Requirement already satisfied: MarkupSafe>=2.0 in /usr/local/lib/python3.11/dist-packages (from jinja2<4.0.0,>=3.1.2->litellm) (3.0.2)\n",
            "Requirement already satisfied: attrs>=22.2.0 in /usr/local/lib/python3.11/dist-packages (from jsonschema<5.0.0,>=4.22.0->litellm) (24.3.0)\n",
            "Requirement already satisfied: jsonschema-specifications>=2023.03.6 in /usr/local/lib/python3.11/dist-packages (from jsonschema<5.0.0,>=4.22.0->litellm) (2024.10.1)\n",
            "Requirement already satisfied: referencing>=0.28.4 in /usr/local/lib/python3.11/dist-packages (from jsonschema<5.0.0,>=4.22.0->litellm) (0.36.1)\n",
            "Requirement already satisfied: rpds-py>=0.7.1 in /usr/local/lib/python3.11/dist-packages (from jsonschema<5.0.0,>=4.22.0->litellm) (0.22.3)\n",
            "Requirement already satisfied: distro<2,>=1.7.0 in /usr/local/lib/python3.11/dist-packages (from openai>=1.55.3->litellm) (1.9.0)\n",
            "Requirement already satisfied: jiter<1,>=0.4.0 in /usr/local/lib/python3.11/dist-packages (from openai>=1.55.3->litellm) (0.8.2)\n",
            "Requirement already satisfied: tqdm>4 in /usr/local/lib/python3.11/dist-packages (from openai>=1.55.3->litellm) (4.67.1)\n",
            "Requirement already satisfied: typing-extensions<5,>=4.11 in /usr/local/lib/python3.11/dist-packages (from openai>=1.55.3->litellm) (4.12.2)\n",
            "Requirement already satisfied: annotated-types>=0.6.0 in /usr/local/lib/python3.11/dist-packages (from pydantic<3.0.0,>=2.0.0->litellm) (0.7.0)\n",
            "Requirement already satisfied: pydantic-core==2.27.2 in /usr/local/lib/python3.11/dist-packages (from pydantic<3.0.0,>=2.0.0->litellm) (2.27.2)\n",
            "Requirement already satisfied: regex>=2022.1.18 in /usr/local/lib/python3.11/dist-packages (from tiktoken>=0.7.0->litellm) (2024.11.6)\n",
            "Requirement already satisfied: requests>=2.26.0 in /usr/local/lib/python3.11/dist-packages (from tiktoken>=0.7.0->litellm) (2.32.3)\n",
            "Requirement already satisfied: aiohappyeyeballs>=2.3.0 in /usr/local/lib/python3.11/dist-packages (from aiohttp->litellm) (2.4.4)\n",
            "Requirement already satisfied: aiosignal>=1.1.2 in /usr/local/lib/python3.11/dist-packages (from aiohttp->litellm) (1.3.2)\n",
            "Requirement already satisfied: frozenlist>=1.1.1 in /usr/local/lib/python3.11/dist-packages (from aiohttp->litellm) (1.5.0)\n",
            "Requirement already satisfied: multidict<7.0,>=4.5 in /usr/local/lib/python3.11/dist-packages (from aiohttp->litellm) (6.1.0)\n",
            "Requirement already satisfied: propcache>=0.2.0 in /usr/local/lib/python3.11/dist-packages (from aiohttp->litellm) (0.2.1)\n",
            "Requirement already satisfied: yarl<2.0,>=1.17.0 in /usr/local/lib/python3.11/dist-packages (from aiohttp->litellm) (1.18.3)\n",
            "Requirement already satisfied: huggingface-hub<1.0,>=0.16.4 in /usr/local/lib/python3.11/dist-packages (from tokenizers->litellm) (0.27.1)\n",
            "Requirement already satisfied: filelock in /usr/local/lib/python3.11/dist-packages (from huggingface-hub<1.0,>=0.16.4->tokenizers->litellm) (3.17.0)\n",
            "Requirement already satisfied: fsspec>=2023.5.0 in /usr/local/lib/python3.11/dist-packages (from huggingface-hub<1.0,>=0.16.4->tokenizers->litellm) (2024.10.0)\n",
            "Requirement already satisfied: packaging>=20.9 in /usr/local/lib/python3.11/dist-packages (from huggingface-hub<1.0,>=0.16.4->tokenizers->litellm) (24.2)\n",
            "Requirement already satisfied: pyyaml>=5.1 in /usr/local/lib/python3.11/dist-packages (from huggingface-hub<1.0,>=0.16.4->tokenizers->litellm) (6.0.2)\n",
            "Requirement already satisfied: charset-normalizer<4,>=2 in /usr/local/lib/python3.11/dist-packages (from requests>=2.26.0->tiktoken>=0.7.0->litellm) (3.4.1)\n",
            "Requirement already satisfied: urllib3<3,>=1.21.1 in /usr/local/lib/python3.11/dist-packages (from requests>=2.26.0->tiktoken>=0.7.0->litellm) (2.3.0)\n"
          ]
        }
      ]
    },
    {
      "cell_type": "code",
      "source": [
        "# Importações\n",
        "\n",
        "import os\n",
        "import requests\n",
        "import PyPDF2\n",
        "import re\n",
        "from litellm import completion\n",
        "from google.colab import userdata"
      ],
      "metadata": {
        "colab": {
          "base_uri": "https://localhost:8080/"
        },
        "id": "j4JMMtXbXwdV",
        "outputId": "14b3943b-6983-4f5e-fb13-8800c28c2a65"
      },
      "execution_count": 2,
      "outputs": [
        {
          "output_type": "stream",
          "name": "stderr",
          "text": [
            "/usr/local/lib/python3.11/dist-packages/pydantic/_internal/_config.py:345: UserWarning: Valid config keys have changed in V2:\n",
            "* 'fields' has been removed\n",
            "  warnings.warn(message, UserWarning)\n"
          ]
        }
      ]
    },
    {
      "cell_type": "code",
      "source": [
        "# Configurações\n",
        "\n",
        "modelo = 'gpt-4o-mini'\n",
        "api_key = userdata.get('OPENAI_KEY')\n",
        "\n",
        "#modelo = 'gemini/gemini-1.5-flash'\n",
        "#api_key = userdata.get('GOOGLE_KEY')\n",
        "\n",
        "#modelo = 'deepseek/deepseek-chat'\n",
        "#api_key = userdata.get('DEEPSEEK_KEY')\n",
        "\n",
        "pasta_de_trabalho = \"/content/drive/MyDrive/promotoria/pdfs\" # Ajuste para o seu caso de uso"
      ],
      "metadata": {
        "id": "6qOKNazucSNB"
      },
      "execution_count": 3,
      "outputs": []
    },
    {
      "cell_type": "code",
      "source": [
        "# Funções\n",
        "\n",
        "def listar_pdfs(diretorio):\n",
        "    pdfs = []\n",
        "    for arquivo in os.listdir(diretorio):\n",
        "        if arquivo.lower().endswith(\".pdf\"):\n",
        "            pdfs.append(os.path.join(diretorio, arquivo))\n",
        "    return pdfs\n",
        "\n",
        "def ler_pdf(caminho_pdf):\n",
        "    with open(caminho_pdf, 'rb') as arquivo:\n",
        "        leitor = PyPDF2.PdfReader(arquivo)\n",
        "        texto = ''\n",
        "        for pagina_num, pagina in enumerate(leitor.pages, start=1):\n",
        "            texto += f\"--- Página {pagina_num} ---\\n\"\n",
        "            texto += pagina.extract_text() + \"\\n\\n\"\n",
        "    return texto\n",
        "\n",
        "def limpar_texto(texto):\n",
        "  # Remover a assinatura\n",
        "  padrao_assinatura = r\"Este documento .*?fls\\. \\d+\"\n",
        "  texto = re.sub(padrao_assinatura, \"\", texto, flags=re.DOTALL)\n",
        "  # Remover sequências de números e barras\n",
        "  padrao_sequencias = r\"\\/[j\\d]+ (?:\\/[j\\d]+)+\"\n",
        "  texto_limpo = re.sub(padrao_sequencias, \"\", texto)\n",
        "  return texto_limpo\n",
        "\n",
        "def analisar_conteudo (texto, prompt, modelo, api_key):\n",
        "  try:\n",
        "    resultado = completion(\n",
        "    model=modelo,\n",
        "    messages=[{\"role\": \"system\", \"content\": \"Você é um analista jurídico especializado em Direito Penal e Processo Penal.\"},\n",
        "                {\"role\": \"system\", \"content\": \"Analise o inquérito policial com base somente no texto fornecido.\"},\n",
        "                {\"role\": \"user\", \"content\": f\"**Texto extraído do inquérito policial:**\\n\\n{texto}\"},\n",
        "                {\"role\": \"user\", \"content\": f\"**Instruções:**\\n {prompt}\"}],\n",
        "                api_key=api_key,\n",
        "                temperature=0.2,\n",
        "                #max_tokens=5000,\n",
        "    )\n",
        "    return resultado.get('choices', [{}])[0].get('message', {}).get('content', 'Sem resposta.')\n",
        "  except Exception as e:\n",
        "    print(f\"Erro: {e}\")\n",
        "    return None\n",
        "\n",
        "def gerar_markdown(texto, nome_arquivo=\"relatorio.md\"):\n",
        "  modo = 'a' if os.path.exists(nome_arquivo) else 'w'\n",
        "  try:\n",
        "    with open(nome_arquivo, modo, encoding='utf-8') as arquivo:\n",
        "      if modo == 'w':\n",
        "        arquivo.write(\"# PROMOTORIA DE JUSTIÇA DE PIRACICABA\\n\\n\")\n",
        "        arquivo.write(texto)\n",
        "      else:\n",
        "         arquivo.write(texto)\n",
        "  except Exception as e:\n",
        "    print(f\"Erro ao salvar o arquivo: {e}\")"
      ],
      "metadata": {
        "id": "gMcXGirJlezI"
      },
      "execution_count": 4,
      "outputs": []
    },
    {
      "cell_type": "code",
      "source": [
        "prompt = f\"\"\"\n",
        "    - Analise o inquérito policial de acordo com o texto fornecido.\n",
        "    - Inclua na análise os números de páginas de onde as informações foram extraídas.\n",
        "    - Para compor as respostas, despreze as páginas sem informação ou incompreensíveis.\n",
        "    - Não invente nenhuma informação (não alucine).\n",
        "\n",
        "    **Informações gerais**\n",
        "    * Número do procedimento no padrão CNJ:\n",
        "    * Data, hora e local da ocorrência:\n",
        "    * Crime que está sendo apurado e dispositivo legal correspondente:\n",
        "    * Indiciado(s) e sua(s) conduta(s):\n",
        "    * Vítima(s) e testemunha(s) com seus respectivos relatos:\n",
        "\n",
        "    **Laudo**\n",
        "    * Resumo dos dados relevantes do laudo (se aplicável):\n",
        "    * Tipos e quantidades de drogas apreendidas (se aplicável):\n",
        "\n",
        "    **Avaliação da prova**\n",
        "    * Classifique a prova como \"boa\" ou \"fraca\":\n",
        "    * Justifique sua classificação:\n",
        "\n",
        "    **Dúvidas e verificação**\n",
        "    * Liste as dúvidas que você teve ao gerar o resumo:\n",
        "    * Verifique se todos os dados fornecidos estão no PDF e confirme:\n",
        "\n",
        "    **Resumo do caso**\n",
        "    * Forneça um resumo, em 2 ou 3 parágrafos. Indique data, hora, local, indiciado(s), conduta(s) e toda informação juridicamente relevante:\n",
        "    \"\"\""
      ],
      "metadata": {
        "id": "wQGIJEJ18_e9"
      },
      "execution_count": 5,
      "outputs": []
    },
    {
      "cell_type": "code",
      "source": [
        "pdfs = listar_pdfs(pasta_de_trabalho)\n",
        "for pdf in pdfs:\n",
        "    texto = ler_pdf(pdf)\n",
        "    texto_limpo = limpar_texto(texto)\n",
        "    resultado = analisar_conteudo(texto_limpo, prompt, modelo, api_key)\n",
        "    if resultado:\n",
        "        conteudo = f\"\\n**Arquivo:** {pdf}\\n\\n\"\n",
        "        conteudo += resultado\n",
        "        conteudo += \"\\n___________________________________\\n\"\n",
        "        print(conteudo)\n",
        "        gerar_markdown(conteudo, f\"{pasta_de_trabalho}/relatorio.md\")\n",
        "    else:\n",
        "        print(f\"Não foi possível obter o resultado de {pdf}.\")"
      ],
      "metadata": {
        "id": "CqP30-aJqyL3"
      },
      "execution_count": null,
      "outputs": []
    }
  ]
}