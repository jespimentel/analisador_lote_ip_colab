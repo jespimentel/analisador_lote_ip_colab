{
  "nbformat": 4,
  "nbformat_minor": 0,
  "metadata": {
    "colab": {
      "provenance": [],
      "mount_file_id": "1IuWM7rdO0qHKVpGSdC0CaSmcNcBNQvrN",
      "authorship_tag": "ABX9TyNhkeG0ABRva+qjgs6Ght72",
      "include_colab_link": true
    },
    "kernelspec": {
      "name": "python3",
      "display_name": "Python 3"
    },
    "language_info": {
      "name": "python"
    }
  },
  "cells": [
    {
      "cell_type": "markdown",
      "metadata": {
        "id": "view-in-github",
        "colab_type": "text"
      },
      "source": [
        "<a href=\"https://colab.research.google.com/github/jespimentel/analisador_lotes_ip_colab/blob/main/litellm.ipynb\" target=\"_parent\"><img src=\"https://colab.research.google.com/assets/colab-badge.svg\" alt=\"Open In Colab\"/></a>"
      ]
    },
    {
      "cell_type": "markdown",
      "source": [
        "# ANALISADOR DE IPS EM LOTE\n",
        "### José Eduardo de Souza Pimentel\n",
        "\n",
        "O programa emprega o poder do Python e das LLMs, mediadas pela biblioteca `litellm`, para analisar uma coleção de inquéritos policiais em formato PDF encontrados em determinada pasta (diretório).\n",
        "\n",
        "### Estratégias\n",
        "1. Usamos o `PyPDF` para extrair textos dos PDFs. Preservamos a numeração das páginas para referenciar as respostas.\n",
        "2. O texto extraído compõe um extenso prompt, com as perguntas à LLM dirigidas à analise de cada caso.\n",
        "3. A biblioteca `litellm` facilita o desenvolvimento e abstrai toda a complexidade das chamadas a APIs, fazendo fácil substituir um provedor de LLM por outro."
      ],
      "metadata": {
        "id": "aQUdTGgu0DH5"
      }
    },
    {
      "cell_type": "code",
      "source": [
        "# Instalações\n",
        "\n",
        "!pip install PyPDF2 litellm"
      ],
      "metadata": {
        "id": "Tc0mcQq2HZCc",
        "colab": {
          "base_uri": "https://localhost:8080/"
        },
        "outputId": "73123494-a74a-4a2f-c034-147679f40c09"
      },
      "execution_count": 1,
      "outputs": [
        {
          "output_type": "stream",
          "name": "stdout",
          "text": [
            "Collecting PyPDF2\n",
            "  Downloading pypdf2-3.0.1-py3-none-any.whl.metadata (6.8 kB)\n",
            "Collecting litellm\n",
            "  Downloading litellm-1.59.8-py3-none-any.whl.metadata (36 kB)\n",
            "Requirement already satisfied: aiohttp in /usr/local/lib/python3.11/dist-packages (from litellm) (3.11.11)\n",
            "Requirement already satisfied: click in /usr/local/lib/python3.11/dist-packages (from litellm) (8.1.8)\n",
            "Collecting httpx<0.28.0,>=0.23.0 (from litellm)\n",
            "  Downloading httpx-0.27.2-py3-none-any.whl.metadata (7.1 kB)\n",
            "Requirement already satisfied: importlib-metadata>=6.8.0 in /usr/local/lib/python3.11/dist-packages (from litellm) (8.6.1)\n",
            "Requirement already satisfied: jinja2<4.0.0,>=3.1.2 in /usr/local/lib/python3.11/dist-packages (from litellm) (3.1.5)\n",
            "Requirement already satisfied: jsonschema<5.0.0,>=4.22.0 in /usr/local/lib/python3.11/dist-packages (from litellm) (4.23.0)\n",
            "Requirement already satisfied: openai>=1.55.3 in /usr/local/lib/python3.11/dist-packages (from litellm) (1.59.9)\n",
            "Requirement already satisfied: pydantic<3.0.0,>=2.0.0 in /usr/local/lib/python3.11/dist-packages (from litellm) (2.10.5)\n",
            "Collecting python-dotenv>=0.2.0 (from litellm)\n",
            "  Downloading python_dotenv-1.0.1-py3-none-any.whl.metadata (23 kB)\n",
            "Collecting tiktoken>=0.7.0 (from litellm)\n",
            "  Downloading tiktoken-0.8.0-cp311-cp311-manylinux_2_17_x86_64.manylinux2014_x86_64.whl.metadata (6.6 kB)\n",
            "Requirement already satisfied: tokenizers in /usr/local/lib/python3.11/dist-packages (from litellm) (0.21.0)\n",
            "Requirement already satisfied: anyio in /usr/local/lib/python3.11/dist-packages (from httpx<0.28.0,>=0.23.0->litellm) (3.7.1)\n",
            "Requirement already satisfied: certifi in /usr/local/lib/python3.11/dist-packages (from httpx<0.28.0,>=0.23.0->litellm) (2024.12.14)\n",
            "Requirement already satisfied: httpcore==1.* in /usr/local/lib/python3.11/dist-packages (from httpx<0.28.0,>=0.23.0->litellm) (1.0.7)\n",
            "Requirement already satisfied: idna in /usr/local/lib/python3.11/dist-packages (from httpx<0.28.0,>=0.23.0->litellm) (3.10)\n",
            "Requirement already satisfied: sniffio in /usr/local/lib/python3.11/dist-packages (from httpx<0.28.0,>=0.23.0->litellm) (1.3.1)\n",
            "Requirement already satisfied: h11<0.15,>=0.13 in /usr/local/lib/python3.11/dist-packages (from httpcore==1.*->httpx<0.28.0,>=0.23.0->litellm) (0.14.0)\n",
            "Requirement already satisfied: zipp>=3.20 in /usr/local/lib/python3.11/dist-packages (from importlib-metadata>=6.8.0->litellm) (3.21.0)\n",
            "Requirement already satisfied: MarkupSafe>=2.0 in /usr/local/lib/python3.11/dist-packages (from jinja2<4.0.0,>=3.1.2->litellm) (3.0.2)\n",
            "Requirement already satisfied: attrs>=22.2.0 in /usr/local/lib/python3.11/dist-packages (from jsonschema<5.0.0,>=4.22.0->litellm) (24.3.0)\n",
            "Requirement already satisfied: jsonschema-specifications>=2023.03.6 in /usr/local/lib/python3.11/dist-packages (from jsonschema<5.0.0,>=4.22.0->litellm) (2024.10.1)\n",
            "Requirement already satisfied: referencing>=0.28.4 in /usr/local/lib/python3.11/dist-packages (from jsonschema<5.0.0,>=4.22.0->litellm) (0.36.1)\n",
            "Requirement already satisfied: rpds-py>=0.7.1 in /usr/local/lib/python3.11/dist-packages (from jsonschema<5.0.0,>=4.22.0->litellm) (0.22.3)\n",
            "Requirement already satisfied: distro<2,>=1.7.0 in /usr/local/lib/python3.11/dist-packages (from openai>=1.55.3->litellm) (1.9.0)\n",
            "Requirement already satisfied: jiter<1,>=0.4.0 in /usr/local/lib/python3.11/dist-packages (from openai>=1.55.3->litellm) (0.8.2)\n",
            "Requirement already satisfied: tqdm>4 in /usr/local/lib/python3.11/dist-packages (from openai>=1.55.3->litellm) (4.67.1)\n",
            "Requirement already satisfied: typing-extensions<5,>=4.11 in /usr/local/lib/python3.11/dist-packages (from openai>=1.55.3->litellm) (4.12.2)\n",
            "Requirement already satisfied: annotated-types>=0.6.0 in /usr/local/lib/python3.11/dist-packages (from pydantic<3.0.0,>=2.0.0->litellm) (0.7.0)\n",
            "Requirement already satisfied: pydantic-core==2.27.2 in /usr/local/lib/python3.11/dist-packages (from pydantic<3.0.0,>=2.0.0->litellm) (2.27.2)\n",
            "Requirement already satisfied: regex>=2022.1.18 in /usr/local/lib/python3.11/dist-packages (from tiktoken>=0.7.0->litellm) (2024.11.6)\n",
            "Requirement already satisfied: requests>=2.26.0 in /usr/local/lib/python3.11/dist-packages (from tiktoken>=0.7.0->litellm) (2.32.3)\n",
            "Requirement already satisfied: aiohappyeyeballs>=2.3.0 in /usr/local/lib/python3.11/dist-packages (from aiohttp->litellm) (2.4.4)\n",
            "Requirement already satisfied: aiosignal>=1.1.2 in /usr/local/lib/python3.11/dist-packages (from aiohttp->litellm) (1.3.2)\n",
            "Requirement already satisfied: frozenlist>=1.1.1 in /usr/local/lib/python3.11/dist-packages (from aiohttp->litellm) (1.5.0)\n",
            "Requirement already satisfied: multidict<7.0,>=4.5 in /usr/local/lib/python3.11/dist-packages (from aiohttp->litellm) (6.1.0)\n",
            "Requirement already satisfied: propcache>=0.2.0 in /usr/local/lib/python3.11/dist-packages (from aiohttp->litellm) (0.2.1)\n",
            "Requirement already satisfied: yarl<2.0,>=1.17.0 in /usr/local/lib/python3.11/dist-packages (from aiohttp->litellm) (1.18.3)\n",
            "Requirement already satisfied: huggingface-hub<1.0,>=0.16.4 in /usr/local/lib/python3.11/dist-packages (from tokenizers->litellm) (0.27.1)\n",
            "Requirement already satisfied: filelock in /usr/local/lib/python3.11/dist-packages (from huggingface-hub<1.0,>=0.16.4->tokenizers->litellm) (3.17.0)\n",
            "Requirement already satisfied: fsspec>=2023.5.0 in /usr/local/lib/python3.11/dist-packages (from huggingface-hub<1.0,>=0.16.4->tokenizers->litellm) (2024.10.0)\n",
            "Requirement already satisfied: packaging>=20.9 in /usr/local/lib/python3.11/dist-packages (from huggingface-hub<1.0,>=0.16.4->tokenizers->litellm) (24.2)\n",
            "Requirement already satisfied: pyyaml>=5.1 in /usr/local/lib/python3.11/dist-packages (from huggingface-hub<1.0,>=0.16.4->tokenizers->litellm) (6.0.2)\n",
            "Requirement already satisfied: charset-normalizer<4,>=2 in /usr/local/lib/python3.11/dist-packages (from requests>=2.26.0->tiktoken>=0.7.0->litellm) (3.4.1)\n",
            "Requirement already satisfied: urllib3<3,>=1.21.1 in /usr/local/lib/python3.11/dist-packages (from requests>=2.26.0->tiktoken>=0.7.0->litellm) (2.3.0)\n",
            "Downloading pypdf2-3.0.1-py3-none-any.whl (232 kB)\n",
            "\u001b[2K   \u001b[90m━━━━━━━━━━━━━━━━━━━━━━━━━━━━━━━━━━━━━━━━\u001b[0m \u001b[32m232.6/232.6 kB\u001b[0m \u001b[31m14.3 MB/s\u001b[0m eta \u001b[36m0:00:00\u001b[0m\n",
            "\u001b[?25hDownloading litellm-1.59.8-py3-none-any.whl (6.7 MB)\n",
            "\u001b[2K   \u001b[90m━━━━━━━━━━━━━━━━━━━━━━━━━━━━━━━━━━━━━━━━\u001b[0m \u001b[32m6.7/6.7 MB\u001b[0m \u001b[31m31.7 MB/s\u001b[0m eta \u001b[36m0:00:00\u001b[0m\n",
            "\u001b[?25hDownloading httpx-0.27.2-py3-none-any.whl (76 kB)\n",
            "\u001b[2K   \u001b[90m━━━━━━━━━━━━━━━━━━━━━━━━━━━━━━━━━━━━━━━━\u001b[0m \u001b[32m76.4/76.4 kB\u001b[0m \u001b[31m2.4 MB/s\u001b[0m eta \u001b[36m0:00:00\u001b[0m\n",
            "\u001b[?25hDownloading python_dotenv-1.0.1-py3-none-any.whl (19 kB)\n",
            "Downloading tiktoken-0.8.0-cp311-cp311-manylinux_2_17_x86_64.manylinux2014_x86_64.whl (1.2 MB)\n",
            "\u001b[2K   \u001b[90m━━━━━━━━━━━━━━━━━━━━━━━━━━━━━━━━━━━━━━━━\u001b[0m \u001b[32m1.2/1.2 MB\u001b[0m \u001b[31m27.4 MB/s\u001b[0m eta \u001b[36m0:00:00\u001b[0m\n",
            "\u001b[?25hInstalling collected packages: python-dotenv, PyPDF2, tiktoken, httpx, litellm\n",
            "  Attempting uninstall: httpx\n",
            "    Found existing installation: httpx 0.28.1\n",
            "    Uninstalling httpx-0.28.1:\n",
            "      Successfully uninstalled httpx-0.28.1\n",
            "Successfully installed PyPDF2-3.0.1 httpx-0.27.2 litellm-1.59.8 python-dotenv-1.0.1 tiktoken-0.8.0\n"
          ]
        }
      ]
    },
    {
      "cell_type": "code",
      "source": [
        "# Importações\n",
        "\n",
        "import os\n",
        "import requests\n",
        "import PyPDF2\n",
        "import re\n",
        "from litellm import completion\n",
        "from google.colab import userdata"
      ],
      "metadata": {
        "colab": {
          "base_uri": "https://localhost:8080/"
        },
        "id": "j4JMMtXbXwdV",
        "outputId": "bc934125-21e4-4d7a-8071-be356404aec7"
      },
      "execution_count": 2,
      "outputs": [
        {
          "output_type": "stream",
          "name": "stderr",
          "text": [
            "/usr/local/lib/python3.11/dist-packages/pydantic/_internal/_config.py:345: UserWarning: Valid config keys have changed in V2:\n",
            "* 'fields' has been removed\n",
            "  warnings.warn(message, UserWarning)\n"
          ]
        }
      ]
    },
    {
      "cell_type": "code",
      "source": [
        "# Configurações\n",
        "\n",
        "#modelo = 'gpt-4o-mini'\n",
        "#api_key = userdata.get('OPENAI_KEY')\n",
        "\n",
        "modelo = 'gemini/gemini-1.5-flash'\n",
        "api_key = userdata.get('GOOGLE_KEY')\n",
        "\n",
        "#modelo = 'deepseek/deepseek-chat'\n",
        "#api_key = userdata.get('DEEPSEEK_KEY')\n",
        "\n",
        "diretorio_pdfs = \"/content/\" # Opcionalmente, escolha uma pasta do seu Google Drive"
      ],
      "metadata": {
        "id": "6qOKNazucSNB"
      },
      "execution_count": 3,
      "outputs": []
    },
    {
      "cell_type": "code",
      "source": [
        "# Funções\n",
        "\n",
        "def listar_pdfs(diretorio):\n",
        "    pdfs = []\n",
        "    for arquivo in os.listdir(diretorio):\n",
        "        if arquivo.lower().endswith(\".pdf\"):\n",
        "            pdfs.append(os.path.join(diretorio, arquivo))\n",
        "    return pdfs\n",
        "\n",
        "def ler_pdf(caminho_pdf):\n",
        "    with open(caminho_pdf, 'rb') as arquivo:\n",
        "        leitor = PyPDF2.PdfReader(arquivo)\n",
        "        texto = ''\n",
        "        for pagina_num, pagina in enumerate(leitor.pages, start=1):\n",
        "            texto += f\"--- Página {pagina_num} ---\\n\"\n",
        "            texto += pagina.extract_text() + \"\\n\\n\"\n",
        "    return texto\n",
        "\n",
        "def limpar_texto(texto):\n",
        "  # Remover a assinatura\n",
        "  padrao_assinatura = r\"Este documento .*?fls\\. \\d+\"\n",
        "  texto = re.sub(padrao_assinatura, \"\", texto, flags=re.DOTALL)\n",
        "  # Remover sequências de números e barras\n",
        "  padrao_sequencias = r\"\\/[j\\d]+ (?:\\/[j\\d]+)+\"\n",
        "  texto_limpo = re.sub(padrao_sequencias, \"\", texto)\n",
        "  return texto_limpo\n",
        "\n",
        "def analisar_conteudo (texto, prompt, modelo, api_key):\n",
        "  try:\n",
        "    resultado = completion(\n",
        "    model=modelo,\n",
        "    messages=[{\"role\": \"system\", \"content\": \"Você é um promotor de justiça especializado em analisar inquéritos policiais.\"},\n",
        "                {\"role\": \"system\", \"content\": \"Trabalhe somente com texto fornecido com o prompt. Não alucine.\"},\n",
        "                {\"role\": \"user\", \"content\": f\"**Texto do PDF:**\\n\\n{texto}\"},\n",
        "                {\"role\": \"user\", \"content\": f\"**Instruções:**\\n {prompt}\"}],\n",
        "                api_key=api_key,\n",
        "                temperature=0.3,\n",
        "                #max_tokens=5000,\n",
        "    )\n",
        "    return resultado.get('choices', [{}])[0].get('message', {}).get('content', 'Sem resposta.')\n",
        "  except Exception as e:\n",
        "    print(f\"Erro: {e}\")\n",
        "    return None\n",
        "\n",
        "def gerar_markdown(texto, nome_arquivo=\"analises.md\"):\n",
        "  modo = 'a' if os.path.exists(nome_arquivo) else 'w'\n",
        "  try:\n",
        "    with open(nome_arquivo, modo, encoding='utf-8') as arquivo:\n",
        "      if modo == 'w':\n",
        "        arquivo.write(\"# PROMOTORIA DE JUSTIÇA DE PIRACICABA\\n\\n\")\n",
        "        arquivo.write(texto)\n",
        "      else:\n",
        "         arquivo.write(texto)\n",
        "  except Exception as e:\n",
        "    print(f\"Erro ao salvar o arquivo: {e}\")"
      ],
      "metadata": {
        "id": "gMcXGirJlezI"
      },
      "execution_count": 4,
      "outputs": []
    },
    {
      "cell_type": "code",
      "source": [
        "prompt = f\"\"\"\n",
        "    Extraia as seguintes informações do texto fornecido.\n",
        "    Inclua os números de páginas de onde as informações foram extraídas.\n",
        "    Para compor as respostas, despreze as páginas sem informação ou incompreensíveis.\n",
        "    Não invente nenhuma informação (não alucine).\n",
        "\n",
        "    **Informações gerais**\n",
        "    * Número do procedimento no padrão CNJ:\n",
        "    * Data, hora e local da ocorrência:\n",
        "    * Crime que está sendo apurado e dispositivo legal correspondente:\n",
        "    * Indiciado(s) e sua(s) conduta(s):\n",
        "    * Vítima(s) e testemunha(s) com seus respectivos relatos:\n",
        "\n",
        "    **Laudo**\n",
        "    * Resumo dos dados relevantes do laudo (se aplicável):\n",
        "    * Tipos e quantidades de drogas apreendidas (se aplicável):\n",
        "\n",
        "    **Avaliação da prova**\n",
        "    * Classifique a prova como \"boa\" ou \"fraca\":\n",
        "    * Justifique sua classificação:\n",
        "\n",
        "    **Dúvidas e verificação**\n",
        "    * Liste as dúvidas que você teve ao gerar o resumo:\n",
        "    * Verifique se todos os dados fornecidos estão no PDF e confirme:\n",
        "\n",
        "    **Resumo do caso**\n",
        "    * Forneça um resumo, em 2 ou 3 parágrafos. Indique data, hora, local, indiciado(s), conduta(s) e toda informação juridicamente relevante:\n",
        "    \"\"\""
      ],
      "metadata": {
        "id": "wQGIJEJ18_e9"
      },
      "execution_count": 5,
      "outputs": []
    },
    {
      "cell_type": "code",
      "source": [
        "pdfs = listar_pdfs(diretorio_pdfs)\n",
        "conteudo = \"\"\n",
        "for pdf in pdfs:\n",
        "    texto = ler_pdf(pdf)\n",
        "    texto_limpo = limpar_texto(texto)\n",
        "    resultado = analisar_conteudo(texto_limpo, prompt, modelo, api_key)\n",
        "    if resultado:\n",
        "        conteudo += f\"\\n**Arquivo:** {pdf}\\n\\n\"\n",
        "        conteudo += resultado\n",
        "        conteudo += \"\\n___________________________________\\n\"\n",
        "        print(conteudo)\n",
        "        gerar_markdown(conteudo)\n",
        "    else:\n",
        "        print(f\"Não foi possível obter o resultado de {pdf}.\")"
      ],
      "metadata": {
        "id": "CqP30-aJqyL3"
      },
      "execution_count": null,
      "outputs": []
    }
  ]
}